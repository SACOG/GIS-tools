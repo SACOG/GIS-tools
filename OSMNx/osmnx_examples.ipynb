{
 "cells": [
  {
   "cell_type": "markdown",
   "id": "cbf62cba",
   "metadata": {},
   "source": [
    "# Basic OSMNx Examples\n",
    "\n",
    "## CAVEATS for installing OSMNx\n",
    "OSMNx probably needs its own conda environment, at least based on the [documentation's instructions](https://osmnx.readthedocs.io/en/stable/). However, this should be tested. Ideally OSMNx can work together with arcpy.\n",
    "\n",
    "## References for OSMNx\n"
   ]
  },
  {
   "cell_type": "code",
   "execution_count": null,
   "id": "1f1a9ee5",
   "metadata": {},
   "outputs": [],
   "source": [
    "\"\"\"\n",
    "Name: osmnx_examples.py\n",
    "Purpose: Basic use examples for the OSMNx library\n",
    "        \n",
    "          \n",
    "Author: Darren Conly\n",
    "Last Updated: <date>\n",
    "Updated by: <name>\n",
    "Copyright:   (c) SACOG\n",
    "Python Version: 3.x\n",
    "\"\"\"\n",
    "\n"
   ]
  }
 ],
 "metadata": {
  "kernelspec": {
   "display_name": "Python 3",
   "language": "python",
   "name": "python3"
  },
  "language_info": {
   "codemirror_mode": {
    "name": "ipython",
    "version": 3
   },
   "file_extension": ".py",
   "mimetype": "text/x-python",
   "name": "python",
   "nbconvert_exporter": "python",
   "pygments_lexer": "ipython3",
   "version": "3.7.11"
  }
 },
 "nbformat": 4,
 "nbformat_minor": 5
}
