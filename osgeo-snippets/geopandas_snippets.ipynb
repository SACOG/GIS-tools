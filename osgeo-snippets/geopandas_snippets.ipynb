{
 "cells": [
  {
   "cell_type": "markdown",
   "id": "a995df2b",
   "metadata": {},
   "source": [
    "# Loading Data to Geodataframe\n",
    "Most of the basics for loading to gdf (e.g., from shapefile, GeoJSON, Geopackage, ESRI file geodatabase, etc.) are easily viewable through [Geopandas documentation](https://geopandas.org/en/stable/docs.html) and Fiona documenation."
   ]
  },
  {
   "cell_type": "markdown",
   "id": "7ff597a1",
   "metadata": {},
   "source": [
    "## Loading a geodataframe from query results, so that GDF doesn't consume a ton of memory"
   ]
  },
  {
   "cell_type": "markdown",
   "id": "bf26295f",
   "metadata": {},
   "source": [
    "### Specifying bounding box coordinates\n",
    "Will only load features that are within a bounding box\n",
    "\n",
    "[More info](https://geopandas.org/en/stable/docs/user_guide/io.html#reading-and-writing-files)"
   ]
  },
  {
   "cell_type": "code",
   "execution_count": 11,
   "id": "f90ff1b4",
   "metadata": {},
   "outputs": [],
   "source": [
    "# Pre-querying using a bounding box\n",
    "# https://geopandas.org/en/stable/docs/reference/api/geopandas.read_file.html\n",
    "\n",
    "import os\n",
    "import geopandas as gpd\n",
    "source_file = r'/Users/darrenconly/GIS/GeoJSON_samples/Sacramento_311_Calls_sample.geojson'\n",
    "\n",
    "# (-121.470, 38.543, -121.449, 38.554) part of tahoe park and oak park\n",
    "bound_box = (-121.470, 38.543, -121.449, 38.554) # (minx, miny, maxx, maxy)\n",
    "\n",
    "gdf_bbox = gpd.read_file(source_file, bbox=bound_box)"
   ]
  },
  {
   "cell_type": "code",
   "execution_count": 13,
   "id": "36a0a994",
   "metadata": {},
   "outputs": [
    {
     "data": {
      "text/plain": [
       "<AxesSubplot:>"
      ]
     },
     "execution_count": 13,
     "metadata": {},
     "output_type": "execute_result"
    },
    {
     "data": {
      "image/png": "[encoded data removed]",
      "text/plain": [
       "<Figure size 432x288 with 1 Axes>"
      ]
     },
     "metadata": {
      "needs_background": "light"
     },
     "output_type": "display_data"
    }
   ],
   "source": [
    "gdf.plot()"
   ]
  },
  {
   "cell_type": "markdown",
   "id": "ee2e3200",
   "metadata": {},
   "source": [
    "### Selecting subset based on other layer's geometry\n",
    "Will only load features that intersect another features geometry.\n",
    "E.g., within some distance of a line or point.\n",
    "\n",
    "**Need to test if this is any portion intersecting, or if wholly within**\n",
    "\n",
    "[More info](https://geopandas.org/en/stable/docs/user_guide/io.html#reading-and-writing-files)"
   ]
  },
  {
   "cell_type": "code",
   "execution_count": 20,
   "id": "4b018e74",
   "metadata": {},
   "outputs": [],
   "source": [
    "# Pre-querying to only load features that are within a buffer distance of some selecting feature\n",
    "\n",
    "selection_feature = r'/Users/darrenconly/GIS/GeoJSON_samples/line_stockton_bl_wgs84.geojson'\n",
    "crs_sacog = \"epsg:2226\"\n",
    "crs_source_data = \"epsg:4236\"\n",
    "distance_feet = 500\n",
    "\n",
    "# convert to feet so user can specify buffer distance in feet\n",
    "gdf_selectfeat = gpd.read_file(selection_feature)\n",
    "gdf_selectfeat['geometry_2226'] = gdf_selectfeat['geometry'].to_crs(crs_sacog)\n",
    "\n",
    "# then convert back to CRS of input data's distance units\n",
    "gs_selecnbuff = gdf_selectfeat['geometry_2226'].buffer(distance_feet)\n",
    "gs_selenbuff2 = gs_selecnbuff.to_crs(crs_source_data)\n",
    "\n",
    "# then do the selection\n",
    "gdf_selectnresult = gpd.read_file(source_file, mask=gs_selenbuff2)"
   ]
  },
  {
   "cell_type": "code",
   "execution_count": 26,
   "id": "b21a2164",
   "metadata": {},
   "outputs": [
    {
     "name": "stdout",
     "output_type": "stream",
     "text": [
      "<class 'geopandas.geodataframe.GeoDataFrame'>\n",
      "RangeIndex: 54 entries, 0 to 53\n",
      "Data columns (total 19 columns):\n",
      " #   Column                 Non-Null Count  Dtype   \n",
      "---  ------                 --------------  -----   \n",
      " 0   OBJECTID               54 non-null     int64   \n",
      " 1   ReferenceNumber        54 non-null     object  \n",
      " 2   CategoryLevel1         54 non-null     object  \n",
      " 3   CategoryLevel2         54 non-null     object  \n",
      " 4   CategoryName           54 non-null     object  \n",
      " 5   CouncilDistrictNumber  54 non-null     object  \n",
      " 6   SourceLevel1           54 non-null     object  \n",
      " 7   Neighborhood           54 non-null     object  \n",
      " 8   DateCreated            54 non-null     object  \n",
      " 9   DateUpdated            54 non-null     object  \n",
      " 10  DateClosed             43 non-null     object  \n",
      " 11  CrossStreet            54 non-null     object  \n",
      " 12  GlobalID               54 non-null     object  \n",
      " 13  ZIP                    54 non-null     object  \n",
      " 14  SFTicketID             54 non-null     object  \n",
      " 15  Address                54 non-null     object  \n",
      " 16  Data_Source            54 non-null     object  \n",
      " 17  PublicStatus           54 non-null     object  \n",
      " 18  geometry               54 non-null     geometry\n",
      "dtypes: geometry(1), int64(1), object(17)\n",
      "memory usage: 8.1+ KB\n"
     ]
    }
   ],
   "source": [
    "gdf_selectnresult.info()"
   ]
  },
  {
   "cell_type": "code",
   "execution_count": 27,
   "id": "30350131",
   "metadata": {},
   "outputs": [],
   "source": [
    "gdf_selectnresult.to_file(\"/Users/darrenconly/GIS/GeoJSON_samples/311calls_stocktonbuff.geojson\", driver='GeoJSON')"
   ]
  }
 ],
 "metadata": {
  "kernelspec": {
   "display_name": "Python 3 (ipykernel)",
   "language": "python",
   "name": "python3"
  },
  "language_info": {
   "codemirror_mode": {
    "name": "ipython",
    "version": 3
   },
   "file_extension": ".py",
   "mimetype": "text/x-python",
   "name": "python",
   "nbconvert_exporter": "python",
   "pygments_lexer": "ipython3",
   "version": "3.7.12"
  }
 },
 "nbformat": 4,
 "nbformat_minor": 5
}
