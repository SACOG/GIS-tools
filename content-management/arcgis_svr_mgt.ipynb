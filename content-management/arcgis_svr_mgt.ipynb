{
 "cells": [
  {
   "cell_type": "code",
   "execution_count": 30,
   "id": "ed712baa-d86a-43e5-b5d1-7756e09278de",
   "metadata": {},
   "outputs": [
    {
     "name": "stdin",
     "output_type": "stream",
     "text": [
      "Enter password:  ········\n"
     ]
    },
    {
     "name": "stderr",
     "output_type": "stream",
     "text": [
      "Setting `verify_cert` to False is a security risk, use at your own risk.\n"
     ]
    },
    {
     "name": "stdout",
     "output_type": "stream",
     "text": [
      "connection made to gis object.\n"
     ]
    }
   ],
   "source": [
    "# CREATE CONNECTION TO GIS API\n",
    "\n",
    "from arcgis.gis import GIS\n",
    "import arcgis.gis.admin as gisadmin\n",
    "\n",
    "portal_url = 'https://portal.sacog.org/portal/'\n",
    "user_name = 'DConly@NT-DOMAIN'\n",
    "\n",
    "svr_url = 'https://services.sacog.org/gisppa/admin'\n",
    "\n",
    "#======================\n",
    "\n",
    "gis = GIS(portal_url, user_name, verify_cert=False)\n",
    "print(\"connection made to gis object.\")\n"
   ]
  },
  {
   "cell_type": "code",
   "execution_count": 35,
   "id": "19a4f7af-bd64-4d34-a81b-0965d974c33d",
   "metadata": {},
   "outputs": [
    {
     "name": "stdout",
     "output_type": "stream",
     "text": [
      "connection made to gis object.\n"
     ]
    }
   ],
   "source": [
    "# STOP AND RESTART SERVICES\n",
    "# https://support.esri.com/en-us/knowledge-base/how-to-stop-gis-services-using-arcgis-api-for-python-000019994\n",
    "\n",
    "servers = gis.admin.servers.list()\n",
    "svr = [s for s in servers if s.url == svr_url]\n",
    "if len(svr) > 0:\n",
    "    svr = svr[0]\n",
    "else:\n",
    "    raise Exception(f\"ERROR: server url {svr_url} not found among available servers.\")\n",
    "    \n",
    "for svc in svr.services.list():\n",
    "    if svc.properties['type'] == 'GPServer':\n",
    "        print(f\"restarting {svc.properties['serviceName']}\")\n",
    "        svc.restart()\n"
   ]
  }
 ],
 "metadata": {
  "kernelspec": {
   "display_name": "Python 3 (ipykernel)",
   "language": "python",
   "name": "python3"
  },
  "language_info": {
   "codemirror_mode": {
    "name": "ipython",
    "version": 3
   },
   "file_extension": ".py",
   "mimetype": "text/x-python",
   "name": "python",
   "nbconvert_exporter": "python",
   "pygments_lexer": "ipython3",
   "version": "3.11.8"
  }
 },
 "nbformat": 4,
 "nbformat_minor": 5
}
