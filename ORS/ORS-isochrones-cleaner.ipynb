{
 "cells": [
  {
   "cell_type": "code",
   "execution_count": 2,
   "metadata": {},
   "outputs": [],
   "source": [
    "# https://openrouteservice.org/\n",
    "# https://openrouteservice.org/dev/#/api-docs/v2/directions/{profile}/get\n",
    "\n",
    "# username = dconly\n",
    "# email = dconly@sacog.org\n",
    "\n",
    "import requests\n",
    "import os\n",
    "\n",
    "import geopandas as gpd\n",
    "import arcpy\n",
    "arcpy.env.overwriteOutput = True\n",
    "\n",
    "api_key_source = r\"C:\\Users\\dconly\\GitRepos\\GIS-tools\\ORS\\api2_DO_NOT_COMMIT.txt\"\n",
    "with open(api_key_source) as f:\n",
    "    ors_api_key = f.readline()\n",
    "\n",
    "\n",
    "\n",
    "\n",
    "\n"
   ]
  },
  {
   "cell_type": "code",
   "execution_count": 3,
   "metadata": {},
   "outputs": [
    {
     "data": {
      "text/html": [
       "<div class='gpresult'><h2>Messages</h2><div id='messages' data-messages='[\"Start Time: Sunday, December 12, 2021 8:15:07 PM\",\"Succeeded at Sunday, December 12, 2021 8:15:08 PM (Elapsed Time: 0.65 seconds)\"]' data-show='true'><div id = 'default' /></div></div>"
      ],
      "text/plain": [
       "<Result 'C:\\\\Users\\\\dconly\\\\AppData\\\\Local\\\\Temp\\\\scratch.gdb\\\\TEST_sr51'>"
      ]
     },
     "execution_count": 3,
     "metadata": {},
     "output_type": "execute_result"
    }
   ],
   "source": [
    "src = r'I:\\Projects\\Darren\\PEP\\PEP_GIS\\PEP_GIS.gdb\\test_sr51'\n",
    "dest = os.path.join(arcpy.env.scratchGDB, 'TEST_sr51')\n",
    "\n",
    "arcpy.management.CopyFeatures(src, dest)"
   ]
  },
  {
   "cell_type": "code",
   "execution_count": 4,
   "metadata": {},
   "outputs": [],
   "source": [
    "# Make isochrone around multiple points along a line\n",
    "# https://openrouteservice.org/dev/#/api-docs/isochrones\n",
    "\n",
    "# input project line feature class\n",
    "line_fc = r\"I:\\Projects\\Darren\\PEP\\PEP_GIS\\PEP_GIS.gdb\\test_sr51\"\n",
    "sref_wgs84 = arcpy.SpatialReference(4326)\n",
    "\n",
    "\n",
    "# make temporary feature class of points at regular intervales along lines\n",
    "# FYI, time permitting, the shapely library has some options for doing this that *might* be faster than ESRI tool\n",
    "temp_pt_fc = os.path.join(arcpy.env.scratchGDB, \"TEMP_pts\")\n",
    "arcpy.management.GeneratePointsAlongLines(line_fc, \n",
    "                                          temp_pt_fc, \"DISTANCE\", \n",
    "                                          Distance=\"1000 feet\", \n",
    "                                          Include_End_Points=\"END_POINTS\")\n",
    "\n",
    "# calc x/y coords in WGS84 (WKID 4326) for compatibility with ORS API\n",
    "pt_fl = \"pt_fl\"\n",
    "arcpy.MakeFeatureLayer_management(temp_pt_fc, pt_fl)\n",
    "arcpy.AddGeometryAttributes_management(Input_Features=pt_fl, \n",
    "                                       Geometry_Properties=['POINT_X_Y_Z_M'],\n",
    "                                      Coordinate_System=sref_wgs84)\n",
    "\n",
    "# print([f.name for f in arcpy.ListFields(temp_pt_fc)])\n",
    "\n",
    "# make array of points at regular intervals along line to\n",
    "line_pts = []\n",
    "with arcpy.da.SearchCursor(pt_fl, [\"POINT_X\", \"POINT_Y\"]) as cur:\n",
    "    for row in cur:\n",
    "        lon = row[0]\n",
    "        lat = row[1]\n",
    "        pt_coords = [lon, lat]\n",
    "        line_pts.append(pt_coords)\n",
    "        \n",
    "# batchify points into groups of 5, because ORS API cannot process more than 5 points in single call\n",
    "\n",
    "line_pts_batched = [line_pts[i:i+5] for i, v in enumerate(line_pts) if i % 5 == 0]\n",
    "# line_pts_batched\n",
    "\n",
    "\n",
    "                    \n",
    "\n"
   ]
  },
  {
   "cell_type": "code",
   "execution_count": 5,
   "metadata": {},
   "outputs": [
    {
     "data": {
      "text/plain": [
       "[[[-121.46469055459444, 38.57988401852383],\n",
       "  [-121.4632627902482, 38.58171040532611],\n",
       "  [-121.46149163769803, 38.58331053379728],\n",
       "  [-121.45938226405352, 38.58463336547391],\n",
       "  [-121.45666094635936, 38.584869722790465]],\n",
       " [[-121.45394366749072, 38.58512883403372],\n",
       "  [-121.4512428574362, 38.58548069577446],\n",
       "  [-121.44883244486525, 38.58634093979994],\n",
       "  [-121.44694967843765, 38.58781264135886],\n",
       "  [-121.44616290157249, 38.58986256797388]],\n",
       " [[-121.44542564074409, 38.59192351779448],\n",
       "  [-121.4447052080559, 38.59398817387329],\n",
       "  [-121.44398477536768, 38.59605277057392],\n",
       "  [-121.4436933780592, 38.596887833434906]]]"
      ]
     },
     "execution_count": 5,
     "metadata": {},
     "output_type": "execute_result"
    }
   ],
   "source": [
    "line_pts_batched"
   ]
  },
  {
   "cell_type": "code",
   "execution_count": 11,
   "metadata": {},
   "outputs": [],
   "source": [
    "# generate isochrones around each of those points\n",
    "max_time_mins = 15\n",
    "max_time_sec = max_time_mins * 60\n",
    "travel_mode = \"driving-car\" # \"driving-car\" #\"foot-walking\"\n",
    "\n",
    "gdf_master = gpd.GeoDataFrame()\n",
    "\n",
    "# Go through each batch of 5 points and draw an isochrone around them, then combine all the batches together\n",
    "# into 1 geodatframe with all relevant isochrone polygons in it. Next step would then be dissolve all polygons.\n",
    "for pts_batch in line_pts_batched:\n",
    "\n",
    "    body = {\"locations\":pts_batch, \"range\":[max_time_sec], \"range_type\":\"time\"}\n",
    "\n",
    "    headers = {\n",
    "        'Accept': 'application/json, application/geo+json, application/gpx+xml, img/png; charset=utf-8',\n",
    "        'Authorization': ors_api_key,\n",
    "        'Content-Type': 'application/json; charset=utf-8'\n",
    "    }\n",
    "\n",
    "    call = requests.post(f'https://api.openrouteservice.org/v2/isochrones/{travel_mode}', json=body, headers=headers)\n",
    "\n",
    "    polygon_json = call.json()['features']\n",
    "    \n",
    "    gdf_batch = gpd.GeoDataFrame.from_features(polygon_json) # FYI, as of 12/12/2021, geopandas read_file() does not work due to a fiona compatibility issue.\n",
    "    gdf_batch['dissolve_col'] = 0\n",
    "    gdf_master = gdf_master.append(gdf_batch)\n",
    "    \n",
    "# gdf_master.head(14)\n",
    "# gdf.plot(cmap='Set1')\n",
    "\n"
   ]
  },
  {
   "cell_type": "code",
   "execution_count": 12,
   "metadata": {},
   "outputs": [
    {
     "data": {
      "text/html": [
       "<div>\n",
       "<style scoped>\n",
       "    .dataframe tbody tr th:only-of-type {\n",
       "        vertical-align: middle;\n",
       "    }\n",
       "\n",
       "    .dataframe tbody tr th {\n",
       "        vertical-align: top;\n",
       "    }\n",
       "\n",
       "    .dataframe thead th {\n",
       "        text-align: right;\n",
       "    }\n",
       "</style>\n",
       "<table border=\"1\" class=\"dataframe\">\n",
       "  <thead>\n",
       "    <tr style=\"text-align: right;\">\n",
       "      <th></th>\n",
       "      <th>geometry</th>\n",
       "      <th>group_index</th>\n",
       "      <th>value</th>\n",
       "      <th>center</th>\n",
       "      <th>dissolve_col</th>\n",
       "    </tr>\n",
       "  </thead>\n",
       "  <tbody>\n",
       "    <tr>\n",
       "      <th>0</th>\n",
       "      <td>POLYGON ((-121.71354 38.55061, -121.71274 38.5...</td>\n",
       "      <td>0</td>\n",
       "      <td>900.0</td>\n",
       "      <td>[-121.46455008494888, 38.57984351748153]</td>\n",
       "      <td>0</td>\n",
       "    </tr>\n",
       "    <tr>\n",
       "      <th>1</th>\n",
       "      <td>POLYGON ((-121.71103 38.55118, -121.71023 38.5...</td>\n",
       "      <td>1</td>\n",
       "      <td>900.0</td>\n",
       "      <td>[-121.46333190871563, 38.58175442000113]</td>\n",
       "      <td>0</td>\n",
       "    </tr>\n",
       "    <tr>\n",
       "      <th>2</th>\n",
       "      <td>POLYGON ((-121.70856 38.55174, -121.70776 38.5...</td>\n",
       "      <td>2</td>\n",
       "      <td>900.0</td>\n",
       "      <td>[-121.46152551873665, 38.58333858367592]</td>\n",
       "      <td>0</td>\n",
       "    </tr>\n",
       "    <tr>\n",
       "      <th>3</th>\n",
       "      <td>POLYGON ((-121.70612 38.55230, -121.70532 38.5...</td>\n",
       "      <td>3</td>\n",
       "      <td>900.0</td>\n",
       "      <td>[-121.4593033232335, 38.584466936493016]</td>\n",
       "      <td>0</td>\n",
       "    </tr>\n",
       "    <tr>\n",
       "      <th>4</th>\n",
       "      <td>POLYGON ((-121.70365 38.55286, -121.70286 38.5...</td>\n",
       "      <td>4</td>\n",
       "      <td>900.0</td>\n",
       "      <td>[-121.45666598300787, 38.58489877496928]</td>\n",
       "      <td>0</td>\n",
       "    </tr>\n",
       "    <tr>\n",
       "      <th>0</th>\n",
       "      <td>POLYGON ((-121.70119 38.55342, -121.70042 38.5...</td>\n",
       "      <td>0</td>\n",
       "      <td>900.0</td>\n",
       "      <td>[-121.45395359560415, 38.58518610094978]</td>\n",
       "      <td>0</td>\n",
       "    </tr>\n",
       "    <tr>\n",
       "      <th>1</th>\n",
       "      <td>POLYGON ((-121.69887 38.55388, -121.69837 38.5...</td>\n",
       "      <td>1</td>\n",
       "      <td>900.0</td>\n",
       "      <td>[-121.45124159025234, 38.585473386459114]</td>\n",
       "      <td>0</td>\n",
       "    </tr>\n",
       "    <tr>\n",
       "      <th>2</th>\n",
       "      <td>POLYGON ((-121.69798 38.55400, -121.69748 38.5...</td>\n",
       "      <td>2</td>\n",
       "      <td>900.0</td>\n",
       "      <td>[-121.44873812280865, 38.58623674816523]</td>\n",
       "      <td>0</td>\n",
       "    </tr>\n",
       "    <tr>\n",
       "      <th>3</th>\n",
       "      <td>POLYGON ((-121.64448 38.56432, -121.64383 38.5...</td>\n",
       "      <td>3</td>\n",
       "      <td>900.0</td>\n",
       "      <td>[-121.44689470970613, 38.587794235643614]</td>\n",
       "      <td>0</td>\n",
       "    </tr>\n",
       "    <tr>\n",
       "      <th>4</th>\n",
       "      <td>POLYGON ((-121.65028 38.56327, -121.64965 38.5...</td>\n",
       "      <td>4</td>\n",
       "      <td>900.0</td>\n",
       "      <td>[-121.44607772960302, 38.589843307220825]</td>\n",
       "      <td>0</td>\n",
       "    </tr>\n",
       "    <tr>\n",
       "      <th>0</th>\n",
       "      <td>POLYGON ((-121.68882 38.55623, -121.68803 38.5...</td>\n",
       "      <td>0</td>\n",
       "      <td>900.0</td>\n",
       "      <td>[-121.44551151732853, 38.591943175467826]</td>\n",
       "      <td>0</td>\n",
       "    </tr>\n",
       "    <tr>\n",
       "      <th>1</th>\n",
       "      <td>POLYGON ((-121.68633 38.55679, -121.68553 38.5...</td>\n",
       "      <td>1</td>\n",
       "      <td>900.0</td>\n",
       "      <td>[-121.4447443856303, 38.593997148621604]</td>\n",
       "      <td>0</td>\n",
       "    </tr>\n",
       "    <tr>\n",
       "      <th>2</th>\n",
       "      <td>POLYGON ((-121.68394 38.55733, -121.68316 38.5...</td>\n",
       "      <td>2</td>\n",
       "      <td>900.0</td>\n",
       "      <td>[-121.4439732202936, 38.5960501207641]</td>\n",
       "      <td>0</td>\n",
       "    </tr>\n",
       "    <tr>\n",
       "      <th>3</th>\n",
       "      <td>POLYGON ((-121.68331 38.55747, -121.68254 38.5...</td>\n",
       "      <td>3</td>\n",
       "      <td>900.0</td>\n",
       "      <td>[-121.44366083566273, 38.59688035122954]</td>\n",
       "      <td>0</td>\n",
       "    </tr>\n",
       "  </tbody>\n",
       "</table>\n",
       "</div>"
      ],
      "text/plain": [
       "                                            geometry  group_index  value  \\\n",
       "0  POLYGON ((-121.71354 38.55061, -121.71274 38.5...            0  900.0   \n",
       "1  POLYGON ((-121.71103 38.55118, -121.71023 38.5...            1  900.0   \n",
       "2  POLYGON ((-121.70856 38.55174, -121.70776 38.5...            2  900.0   \n",
       "3  POLYGON ((-121.70612 38.55230, -121.70532 38.5...            3  900.0   \n",
       "4  POLYGON ((-121.70365 38.55286, -121.70286 38.5...            4  900.0   \n",
       "0  POLYGON ((-121.70119 38.55342, -121.70042 38.5...            0  900.0   \n",
       "1  POLYGON ((-121.69887 38.55388, -121.69837 38.5...            1  900.0   \n",
       "2  POLYGON ((-121.69798 38.55400, -121.69748 38.5...            2  900.0   \n",
       "3  POLYGON ((-121.64448 38.56432, -121.64383 38.5...            3  900.0   \n",
       "4  POLYGON ((-121.65028 38.56327, -121.64965 38.5...            4  900.0   \n",
       "0  POLYGON ((-121.68882 38.55623, -121.68803 38.5...            0  900.0   \n",
       "1  POLYGON ((-121.68633 38.55679, -121.68553 38.5...            1  900.0   \n",
       "2  POLYGON ((-121.68394 38.55733, -121.68316 38.5...            2  900.0   \n",
       "3  POLYGON ((-121.68331 38.55747, -121.68254 38.5...            3  900.0   \n",
       "\n",
       "                                      center  dissolve_col  \n",
       "0   [-121.46455008494888, 38.57984351748153]             0  \n",
       "1   [-121.46333190871563, 38.58175442000113]             0  \n",
       "2   [-121.46152551873665, 38.58333858367592]             0  \n",
       "3   [-121.4593033232335, 38.584466936493016]             0  \n",
       "4   [-121.45666598300787, 38.58489877496928]             0  \n",
       "0   [-121.45395359560415, 38.58518610094978]             0  \n",
       "1  [-121.45124159025234, 38.585473386459114]             0  \n",
       "2   [-121.44873812280865, 38.58623674816523]             0  \n",
       "3  [-121.44689470970613, 38.587794235643614]             0  \n",
       "4  [-121.44607772960302, 38.589843307220825]             0  \n",
       "0  [-121.44551151732853, 38.591943175467826]             0  \n",
       "1   [-121.4447443856303, 38.593997148621604]             0  \n",
       "2     [-121.4439732202936, 38.5960501207641]             0  \n",
       "3   [-121.44366083566273, 38.59688035122954]             0  "
      ]
     },
     "execution_count": 12,
     "metadata": {},
     "output_type": "execute_result"
    }
   ],
   "source": [
    "gdf_master"
   ]
  },
  {
   "cell_type": "code",
   "execution_count": 20,
   "metadata": {},
   "outputs": [
    {
     "data": {
      "text/plain": [
       "<AxesSubplot:>"
      ]
     },
     "execution_count": 20,
     "metadata": {},
     "output_type": "execute_result"
    },
    {
     "data": {
      "image/png": "[encoded data removed]",
      "text/plain": [
       "<Figure size 432x288 with 1 Axes>"
      ]
     },
     "metadata": {
      "needs_background": "light"
     },
     "output_type": "display_data"
    }
   ],
   "source": [
    "# Dissolve the multiple polygons into single polygon using Geopandas\n",
    "gdf_diss = gdf_master.dissolve(by='value')\n",
    "\n",
    "gdf_diss.plot()"
   ]
  },
  {
   "cell_type": "code",
   "execution_count": null,
   "metadata": {},
   "outputs": [],
   "source": []
  }
 ],
 "metadata": {
  "kernelspec": {
   "display_name": "Python 3",
   "language": "python",
   "name": "python3"
  },
  "language_info": {
   "codemirror_mode": {
    "name": "ipython",
    "version": 3
   },
   "file_extension": ".py",
   "mimetype": "text/x-python",
   "name": "python",
   "nbconvert_exporter": "python",
   "pygments_lexer": "ipython3",
   "version": "3.7.11"
  }
 },
 "nbformat": 4,
 "nbformat_minor": 4
}
