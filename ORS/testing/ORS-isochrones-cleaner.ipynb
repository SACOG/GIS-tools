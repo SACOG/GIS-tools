{
 "cells": [
  {
   "cell_type": "code",
   "execution_count": 1,
   "metadata": {},
   "outputs": [],
   "source": [
    "# https://openrouteservice.org/\n",
    "# https://openrouteservice.org/dev/#/api-docs/v2/directions/{profile}/get\n",
    "\n",
    "# username = dconly\n",
    "# email = dconly@sacog.org\n",
    "\n",
    "import requests\n",
    "import os\n",
    "\n",
    "import pandas as pd \n",
    "import geopandas as gpd\n",
    "import arcpy\n",
    "from arcgis.features import GeoAccessor, GeoSeriesAccessor\n",
    "arcpy.env.overwriteOutput = True\n",
    "\n",
    "api_key_source = r\"C:\\Users\\dconly\\GitRepos\\GIS-tools\\ORS\\api2_DO_NOT_COMMIT.txt\"\n",
    "with open(api_key_source) as f:\n",
    "    ors_api_key = f.readline()\n",
    "\n",
    "\n",
    "\n",
    "\n",
    "\n"
   ]
  },
  {
   "cell_type": "code",
   "execution_count": 2,
   "metadata": {},
   "outputs": [
    {
     "name": "stdout",
     "output_type": "stream",
     "text": [
      "Done.\n"
     ]
    }
   ],
   "source": [
    "# Make isochrone around multiple points along a line\n",
    "# https://openrouteservice.org/dev/#/api-docs/isochrones\n",
    "\n",
    "# input project line feature class\n",
    "line_fc = r\"I:\\Projects\\Darren\\PEP\\PEP_GIS\\PEP_GIS.gdb\\test_sr51\"\n",
    "sref_wgs84 = arcpy.SpatialReference(4326)\n",
    "\n",
    "\n",
    "# make temporary feature class of points at regular intervales along lines\n",
    "# FYI, time permitting, the shapely library has some options for doing this that *might* be faster than ESRI tool\n",
    "temp_pt_fc = os.path.join(arcpy.env.scratchGDB, \"TEMP_pts\")\n",
    "arcpy.management.GeneratePointsAlongLines(line_fc, \n",
    "                                          temp_pt_fc, \"DISTANCE\", \n",
    "                                          Distance=\"1000 feet\", \n",
    "                                          Include_End_Points=\"END_POINTS\")\n",
    "\n",
    "# calc x/y coords in WGS84 (WKID 4326) for compatibility with ORS API\n",
    "pt_fl = \"pt_fl\"\n",
    "arcpy.MakeFeatureLayer_management(temp_pt_fc, pt_fl)\n",
    "arcpy.AddGeometryAttributes_management(Input_Features=pt_fl, \n",
    "                                       Geometry_Properties=['POINT_X_Y_Z_M'],\n",
    "                                      Coordinate_System=sref_wgs84)\n",
    "\n",
    "# print([f.name for f in arcpy.ListFields(temp_pt_fc)])\n",
    "\n",
    "# make array of points at regular intervals along line to\n",
    "line_pts = []\n",
    "with arcpy.da.SearchCursor(pt_fl, [\"POINT_X\", \"POINT_Y\"]) as cur:\n",
    "    for row in cur:\n",
    "        lon = row[0]\n",
    "        lat = row[1]\n",
    "        pt_coords = [lon, lat]\n",
    "        line_pts.append(pt_coords)\n",
    "        \n",
    "# batchify points into groups of 5, because ORS API cannot process more than 5 points in single call\n",
    "\n",
    "line_pts_batched = [line_pts[i:i+5] for i, v in enumerate(line_pts) if i % 5 == 0]\n",
    "# line_pts_batched\n",
    "print(\"Done.\")\n",
    "\n",
    "\n",
    "                    \n",
    "\n"
   ]
  },
  {
   "cell_type": "code",
   "execution_count": 4,
   "metadata": {},
   "outputs": [
    {
     "name": "stdout",
     "output_type": "stream",
     "text": [
      "master geopandas gdf created\n"
     ]
    }
   ],
   "source": [
    "# generate isochrones around each of those points\n",
    "max_time_mins = 15\n",
    "max_time_sec = max_time_mins * 60\n",
    "travel_mode = \"driving-car\" # \"driving-car\" #\"foot-walking\"\n",
    "\n",
    "gdf_master = gpd.GeoDataFrame()\n",
    "\n",
    "# Go through each batch of 5 points and draw an isochrone around them, then combine all the batches together\n",
    "# into 1 geodatframe with all relevant isochrone polygons in it. Next step would then be dissolve all polygons.\n",
    "for pts_batch in line_pts_batched:\n",
    "\n",
    "    body = {\"locations\":pts_batch, \"range\":[max_time_sec], \"range_type\":\"time\"}\n",
    "\n",
    "    headers = {\n",
    "        'Accept': 'application/json, application/geo+json, application/gpx+xml, img/png; charset=utf-8',\n",
    "        'Authorization': ors_api_key,\n",
    "        'Content-Type': 'application/json; charset=utf-8'\n",
    "    }\n",
    "\n",
    "    call = requests.post(f'https://api.openrouteservice.org/v2/isochrones/{travel_mode}', json=body, headers=headers)\n",
    "\n",
    "    polygon_json = call.json()['features']\n",
    "    \n",
    "    gdf_batch = gpd.GeoDataFrame.from_features(polygon_json) # FYI, as of 12/12/2021, geopandas read_file() does not work due to a fiona compatibility issue.\n",
    "    gdf_batch['dissolve_col'] = 0\n",
    "    gdf_master = gdf_master.append(gdf_batch)\n",
    "    \n",
    "print('master geopandas gdf created')\n",
    "    \n",
    "# gdf_master.head(14)\n",
    "# gdf.plot(cmap='Set1')\n",
    "\n"
   ]
  },
  {
   "cell_type": "code",
   "execution_count": 5,
   "metadata": {},
   "outputs": [
    {
     "data": {
      "text/plain": [
       "<AxesSubplot:>"
      ]
     },
     "execution_count": 5,
     "metadata": {},
     "output_type": "execute_result"
    },
    {
     "data": {
      "image/png": "[encoded data removed]",
      "text/plain": [
       "<Figure size 432x288 with 1 Axes>"
      ]
     },
     "metadata": {
      "needs_background": "light"
     },
     "output_type": "display_data"
    }
   ],
   "source": [
    "# Dissolve the multiple polygons into single polygon using Geopandas\n",
    "gdf_diss = gdf_master.dissolve(by='value')\n",
    "\n",
    "gdf_diss.plot()"
   ]
  },
  {
   "cell_type": "code",
   "execution_count": 6,
   "metadata": {},
   "outputs": [],
   "source": [
    "# export to ESRI feature class\n",
    "out_file = r'I:\\Projects\\Darren\\PPA3_GIS\\PPA3Testing.gdb\\TEST_from_SEDF'\n",
    "\n",
    "sedf = pd.DataFrame.spatial.from_geodataframe(gdf_diss)\n"
   ]
  },
  {
   "cell_type": "code",
   "execution_count": 7,
   "metadata": {},
   "outputs": [
    {
     "data": {
      "text/plain": [
       "'0'"
      ]
     },
     "execution_count": 7,
     "metadata": {},
     "output_type": "execute_result"
    }
   ],
   "source": [
    "# attempt to convert SEDF directly to feature class\n",
    "# As of 12/19/2021, there is issue in which none of the SEDF's features are writing out to the feature class.\n",
    "# Darren wrote about it at https://community.esri.com/t5/arcgis-api-for-python-questions/converting-spatially-enabled-dataframe-to-feature/m-p/1127417\n",
    "sedf.spatial.to_featureclass(out_file)\n",
    "arcpy.management.GetCount(out_file)[0] # test to see if anything wrote out to feature class"
   ]
  },
  {
   "cell_type": "code",
   "execution_count": 32,
   "metadata": {},
   "outputs": [
    {
     "data": {
      "text/plain": [
       "'1'"
      ]
     },
     "execution_count": 32,
     "metadata": {},
     "output_type": "execute_result"
    }
   ],
   "source": [
    "# SEDF > featureset > geojson file > feature class\n",
    "\n",
    "featureset = sedf.spatial.to_featureset()\n",
    "temp_geojson = os.path.join(arcpy.env.scratchFolder, \"TEMP.geojson\")\n",
    "with open(temp_geojson, \"w\", encoding=\"utf-8\") as file:\n",
    "    file.write(featureset.to_geojson)\n",
    "    \n",
    "\n",
    "test_fc = r'I:\\Projects\\Darren\\PPA3_GIS\\PPA3Testing.gdb\\test_fc'\n",
    "\n",
    "arcpy.conversion.JSONToFeatures(temp_geojson, test_fc)\n",
    "os.remove(temp_geojson)\n",
    "\n",
    "arcpy.management.GetCount(test_fc)[0]\n",
    "\n"
   ]
  },
  {
   "cell_type": "code",
   "execution_count": 8,
   "metadata": {},
   "outputs": [
    {
     "data": {
      "application/vnd.jupyter.widget-view+json": {
       "model_id": "af99174fa7c04e428a834ad906583589",
       "version_major": 2,
       "version_minor": 0
      },
      "text/plain": [
       "MapView(layout=Layout(height='400px', width='100%'))"
      ]
     },
     "metadata": {},
     "output_type": "display_data"
    },
    {
     "data": {
      "text/html": [
       "<div class=\"map-static-img-preview-2050f36f-7a62-4be0-b62b-8acd8459cc96\"><img src=\"\"></img></div>"
      ],
      "text/plain": [
       "<IPython.core.display.HTML object>"
      ]
     },
     "metadata": {},
     "output_type": "display_data"
    },
    {
     "data": {
      "text/html": [
       "<div class=\"map-html-embed-preview-2050f36f-7a62-4be0-b62b-8acd8459cc96\"></div>"
      ],
      "text/plain": [
       "<IPython.core.display.HTML object>"
      ]
     },
     "metadata": {},
     "output_type": "display_data"
    }
   ],
   "source": [
    "# Plot on webmap\n",
    "from arcgis import GIS\n",
    "gis = GIS()\n",
    "\n",
    "m1 = gis.map(location = 'Sacramento, CA', zoomlevel = 12)\n",
    "sedf.spatial.plot(map_widget=m1)\n",
    "m1"
   ]
  },
  {
   "cell_type": "code",
   "execution_count": 17,
   "metadata": {},
   "outputs": [
    {
     "data": {
      "text/plain": [
       "'I:\\\\Projects\\\\Darren\\\\PPA3_GIS\\\\PPA3Testing.gdb\\\\TEST_output_fromFS'"
      ]
     },
     "execution_count": 17,
     "metadata": {},
     "output_type": "execute_result"
    }
   ],
   "source": [
    "# SEDF > featureset > feature class\n",
    "# https://developers.arcgis.com/python/api-reference/arcgis.features.toc.html#featureset\n",
    "\n",
    "fs2 = sedf.spatial.to_featureset()\n",
    "fs2.save(save_location=\"I:\\Projects\\Darren\\PPA3_GIS\\PPA3Testing.gdb\", out_name='TEST_output_fromFS')"
   ]
  },
  {
   "cell_type": "code",
   "execution_count": 20,
   "metadata": {},
   "outputs": [
    {
     "data": {
      "text/plain": [
       "'test_fc'"
      ]
     },
     "execution_count": 20,
     "metadata": {},
     "output_type": "execute_result"
    }
   ],
   "source": [
    "test_fc = r'I:\\Projects\\Darren\\PPA3_GIS\\PPA3Testing.gdb\\test_fc'\n",
    "os.path.basename(test_fc)"
   ]
  }
 ],
 "metadata": {
  "kernelspec": {
   "display_name": "Python 3",
   "language": "python",
   "name": "python3"
  },
  "language_info": {
   "codemirror_mode": {
    "name": "ipython",
    "version": 3
   },
   "file_extension": ".py",
   "mimetype": "text/x-python",
   "name": "python",
   "nbconvert_exporter": "python",
   "pygments_lexer": "ipython3",
   "version": "3.7.11"
  }
 },
 "nbformat": 4,
 "nbformat_minor": 4
}
