{
 "cells": [
  {
   "cell_type": "code",
   "execution_count": 5,
   "metadata": {},
   "outputs": [],
   "source": [
    "# https://openrouteservice.org/\n",
    "# https://openrouteservice.org/dev/#/api-docs/v2/directions/{profile}/get\n",
    "\n",
    "# username = dconly\n",
    "# email = dconly@sacog.org\n",
    "\n",
    "import requests\n",
    "\n",
    "# ORS key name = ppa_1\n",
    "ors_api_key = '' # DELETE API KEY BEFORE COMMITTING TO GITHUB\n",
    "# WHAT'S A GOOD WAY TO DO THIS?\n",
    "\n",
    "\n",
    "# Am River Path JWO cap city freeway\n",
    "start_lat = 38.59312635026946\n",
    "start_lon = -121.4487934112549\n",
    "\n",
    "# Middle of McKinley village\n",
    "end_lat = 38.582995821193265\n",
    "end_lon = -121.4568614959717\n",
    "\n",
    "travel_mode = \"cycling-regular\"\n",
    "\n",
    "api_url = f\"https://api.openrouteservice.org/v2/directions/{travel_mode}?api_key={ors_api_key}\" \\\n",
    "        f\"&start={start_lon},{start_lat}&end={end_lon},{end_lat}\"\n",
    "\n",
    "call = requests.get(api_url)"
   ]
  },
  {
   "cell_type": "code",
   "execution_count": 31,
   "metadata": {},
   "outputs": [
    {
     "name": "stdout",
     "output_type": "stream",
     "text": [
      "4.11 miles in 22.81 mins\n"
     ]
    }
   ],
   "source": [
    "# need more elegant way to parse json?\n",
    "\n",
    "json_result = call.json()\n",
    "path_data = json_result['features'][0]['properties']['segments'][0]\n",
    "path_data\n",
    "\n",
    "path_dist_m = path_data['distance']\n",
    "path_dur_sec = path_data['duration']\n",
    "\n",
    "dist_mi = round(path_dist_m * 0.0006213712, 2)\n",
    "path_dur_mins = round(path_dur_sec / 60, 2)\n",
    "\n",
    "print(f\"{dist_mi} miles in {path_dur_mins} mins\")"
   ]
  }
 ],
 "metadata": {
  "kernelspec": {
   "display_name": "Python 3",
   "language": "python",
   "name": "python3"
  },
  "language_info": {
   "codemirror_mode": {
    "name": "ipython",
    "version": 3
   },
   "file_extension": ".py",
   "mimetype": "text/x-python",
   "name": "python",
   "nbconvert_exporter": "python",
   "pygments_lexer": "ipython3",
   "version": "3.7.10"
  }
 },
 "nbformat": 4,
 "nbformat_minor": 4
}
