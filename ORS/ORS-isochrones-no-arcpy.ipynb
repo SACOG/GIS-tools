{
 "cells": [
  {
   "cell_type": "code",
   "execution_count": 38,
   "metadata": {},
   "outputs": [],
   "source": [
    "# https://openrouteservice.org/\n",
    "# https://openrouteservice.org/dev/#/api-docs/v2/directions/{profile}/get\n",
    "\n",
    "# username = dconly\n",
    "# email = dconly@sacog.org\n",
    "\n",
    "import requests\n",
    "import os\n",
    "\n",
    "import geopandas as gpd\n",
    "\n",
    "api_key_source = r\"C:\\Users\\dconly\\GitRepos\\GIS-tools\\ORS\\api2_DO_NOT_COMMIT.txt\"\n",
    "with open(api_key_source) as f:\n",
    "    ors_api_key = f.readline()\n"
   ]
  },
  {
   "cell_type": "code",
   "execution_count": 41,
   "metadata": {},
   "outputs": [],
   "source": [
    "# load the project line into geodataframe; assumes the line is loaded from a projection that uses feet units\n",
    "fgdb = r'I:\\Projects\\Darren\\PEP\\PEP_GIS\\PEP_GIS.gdb'\n",
    "lyr = 'test_sr51'\n",
    "\n",
    "gdf_line = gpd.GeoDataFrame.from_file(fgdb, layer=lyr, driver=\"OpenFileGDB\")\n",
    "# gdf_line = gdf_line.to_crs(\"EPSG:4326\")"
   ]
  },
  {
   "cell_type": "code",
   "execution_count": 73,
   "metadata": {},
   "outputs": [
    {
     "data": {
      "text/plain": [
       "[[(-121.46469055459444, 38.57988401852383),\n",
       "  (-121.45861800965129, 38.584699744179005),\n",
       "  (-121.44976960433576, 38.58575489858421),\n",
       "  (-121.44553909513247, 38.591598369742826),\n",
       "  (-121.44369337805918, 38.596887833434906)]]"
      ]
     },
     "execution_count": 73,
     "metadata": {},
     "output_type": "execute_result"
    }
   ],
   "source": [
    "# make evenly-spaced points along the line\n",
    "import numpy as np\n",
    "crs_wgs84 = \"EPSG:4326\"\n",
    "\n",
    "gs_line = gdf_line.geometry\n",
    "\n",
    "line_len = gs_line.length[0]\n",
    "seg_dist = 1000 # how many feet you want the points spaced apart\n",
    "\n",
    "distances = [i for i in np.arange(0,line_len, seg_dist)]\n",
    "if line_len not in distances:\n",
    "             distances.append(line_len)\n",
    "             \n",
    "seg_points = [gs_line.interpolate(dist).to_crs(crs_wgs84) for dist in distances]\n",
    "seg_points_xy = [(p.x[0], p.y[0]) for p in seg_points]\n",
    "seg_points_batched = [seg_points_xy[i:i + 5] for i, v in enumerate(seg_points_xy) if i % 5 == 0]\n",
    "seg_points_batched\n"
   ]
  },
  {
   "cell_type": "code",
   "execution_count": 74,
   "metadata": {},
   "outputs": [
    {
     "data": {
      "text/html": [
       "<div>\n",
       "<style scoped>\n",
       "    .dataframe tbody tr th:only-of-type {\n",
       "        vertical-align: middle;\n",
       "    }\n",
       "\n",
       "    .dataframe tbody tr th {\n",
       "        vertical-align: top;\n",
       "    }\n",
       "\n",
       "    .dataframe thead th {\n",
       "        text-align: right;\n",
       "    }\n",
       "</style>\n",
       "<table border=\"1\" class=\"dataframe\">\n",
       "  <thead>\n",
       "    <tr style=\"text-align: right;\">\n",
       "      <th></th>\n",
       "      <th>group_index</th>\n",
       "      <th>value</th>\n",
       "      <th>geometry</th>\n",
       "      <th>dissolve_col</th>\n",
       "    </tr>\n",
       "  </thead>\n",
       "  <tbody>\n",
       "    <tr>\n",
       "      <th>0</th>\n",
       "      <td>0</td>\n",
       "      <td>900.0</td>\n",
       "      <td>POLYGON ((-121.71354 38.55061, -121.71274 38.5...</td>\n",
       "      <td>0</td>\n",
       "    </tr>\n",
       "    <tr>\n",
       "      <th>1</th>\n",
       "      <td>1</td>\n",
       "      <td>900.0</td>\n",
       "      <td>POLYGON ((-121.70544 38.55245, -121.70465 38.5...</td>\n",
       "      <td>0</td>\n",
       "    </tr>\n",
       "    <tr>\n",
       "      <th>2</th>\n",
       "      <td>2</td>\n",
       "      <td>900.0</td>\n",
       "      <td>POLYGON ((-121.69837 38.55395, -121.69787 38.5...</td>\n",
       "      <td>0</td>\n",
       "    </tr>\n",
       "    <tr>\n",
       "      <th>3</th>\n",
       "      <td>3</td>\n",
       "      <td>900.0</td>\n",
       "      <td>POLYGON ((-121.68922 38.55614, -121.68842 38.5...</td>\n",
       "      <td>0</td>\n",
       "    </tr>\n",
       "    <tr>\n",
       "      <th>4</th>\n",
       "      <td>4</td>\n",
       "      <td>900.0</td>\n",
       "      <td>POLYGON ((-121.68331 38.55747, -121.68254 38.5...</td>\n",
       "      <td>0</td>\n",
       "    </tr>\n",
       "  </tbody>\n",
       "</table>\n",
       "</div>"
      ],
      "text/plain": [
       "   group_index  value                                           geometry  \\\n",
       "0            0  900.0  POLYGON ((-121.71354 38.55061, -121.71274 38.5...   \n",
       "1            1  900.0  POLYGON ((-121.70544 38.55245, -121.70465 38.5...   \n",
       "2            2  900.0  POLYGON ((-121.69837 38.55395, -121.69787 38.5...   \n",
       "3            3  900.0  POLYGON ((-121.68922 38.55614, -121.68842 38.5...   \n",
       "4            4  900.0  POLYGON ((-121.68331 38.55747, -121.68254 38.5...   \n",
       "\n",
       "   dissolve_col  \n",
       "0             0  \n",
       "1             0  \n",
       "2             0  \n",
       "3             0  \n",
       "4             0  "
      ]
     },
     "execution_count": 74,
     "metadata": {},
     "output_type": "execute_result"
    }
   ],
   "source": [
    "# generate isochrones around each of those points\n",
    "max_time_mins = 15\n",
    "max_time_sec = max_time_mins * 60\n",
    "travel_mode = \"driving-car\" # \"driving-car\" #\"foot-walking\"\n",
    "\n",
    "gdf_master = gpd.GeoDataFrame()\n",
    "\n",
    "# Go through each batch of 5 points and draw an isochrone around them, then combine all the batches together\n",
    "# into 1 geodatframe with all relevant isochrone polygons in it. Next step would then be dissolve all polygons.\n",
    "for pts_batch in seg_points_batched:\n",
    "\n",
    "    body = {\"locations\":pts_batch, \"range\":[max_time_sec], \"range_type\":\"time\"}\n",
    "\n",
    "    headers = {\n",
    "        'Accept': 'application/json, application/geo+json, application/gpx+xml, img/png; charset=utf-8',\n",
    "        'Authorization': ors_api_key,\n",
    "        'Content-Type': 'application/json; charset=utf-8'\n",
    "    }\n",
    "\n",
    "    call = requests.post(f'https://api.openrouteservice.org/v2/isochrones/{travel_mode}', json=body, headers=headers)\n",
    "\n",
    "    polygon_txt = call.text\n",
    "    gdf_batch = gpd.read_file(polygon_txt)\n",
    "    gdf_batch['dissolve_col'] = 0\n",
    "    gdf_master = gdf_master.append(gdf_batch)\n",
    "    \n",
    "gdf_master.head(14)\n",
    "gdf_master.plot(cmap='Set1')\n",
    "\n"
   ]
  },
  {
   "cell_type": "code",
   "execution_count": 77,
   "metadata": {},
   "outputs": [
    {
     "data": {
      "text/plain": [
       "<AxesSubplot:>"
      ]
     },
     "execution_count": 77,
     "metadata": {},
     "output_type": "execute_result"
    },
    {
     "data": {
      "image/png": "[encoded data removed]",
      "text/plain": [
       "<Figure size 432x288 with 1 Axes>"
      ]
     },
     "metadata": {
      "needs_background": "light"
     },
     "output_type": "display_data"
    }
   ],
   "source": [
    "# Dissolve the multiple polygons into single polygon using Geopandas\n",
    "gdfd = gdf_master.dissolve(by='dissolve_col')\n",
    "\n",
    "gdfd.plot(cmap='Set1')"
   ]
  },
  {
   "cell_type": "code",
   "execution_count": 40,
   "metadata": {},
   "outputs": [
    {
     "data": {
      "text/plain": [
       "'{\"type\":\"FeatureCollection\",\"bbox\":[-121.460692,38.58504,-121.437824,38.597321],\"features\":[{\"type\":\"Feature\",\"properties\":{\"group_index\":0,\"value\":900.0,\"center\":[-121.44875188166795,38.593163819244374]},\"geometry\":{\"coordinates\":[[[-121.460692,38.595053],[-121.460571,38.594714],[-121.458764,38.590803],[-121.456705,38.590897],[-121.456491,38.5909],[-121.456302,38.590903],[-121.456132,38.590931],[-121.455065,38.591077],[-121.449436,38.591245],[-121.443846,38.589243],[-121.443085,38.588727],[-121.439565,38.585075],[-121.439041,38.58504],[-121.437897,38.58541],[-121.437824,38.585763],[-121.43858,38.587357],[-121.4389,38.587523],[-121.44245,38.588715],[-121.444365,38.59378],[-121.444745,38.595547],[-121.446982,38.597129],[-121.447307,38.597283],[-121.447612,38.597321],[-121.452781,38.596452],[-121.45395,38.596473],[-121.454629,38.596475],[-121.455329,38.596475],[-121.455981,38.5964],[-121.456653,38.596321],[-121.45696,38.596252],[-121.457279,38.59618],[-121.457952,38.595983],[-121.458635,38.595783],[-121.459663,38.595418],[-121.460692,38.595053]]],\"type\":\"Polygon\"}}],\"metadata\":{\"attribution\":\"openrouteservice.org | OpenStreetMap contributors\",\"service\":\"isochrones\",\"timestamp\":1635784697079,\"query\":{\"locations\":[[-121.4487934112549,38.59312635026946]],\"range\":[900.0],\"range_type\":\"time\"},\"engine\":{\"version\":\"6.6.1\",\"build_date\":\"2021-07-05T10:57:48Z\",\"graph_date\":\"2021-10-22T02:47:35Z\"}}}'"
      ]
     },
     "execution_count": 40,
     "metadata": {},
     "output_type": "execute_result"
    }
   ],
   "source": [
    "# Make isochrone around single point (NOT necessary to run for making line-based isochrone)\n",
    "# https://openrouteservice.org/dev/#/api-docs/isochrones\n",
    "\n",
    "travel_mode = \"foot-walking\"\n",
    "\n",
    "orgn_lat = 38.59312635026946\n",
    "orgn_lon = -121.4487934112549\n",
    "\n",
    "max_time_mins = 15\n",
    "max_time_sec = max_time_mins * 60\n",
    "\n",
    "\n",
    "# IMPORTANT NOTE!!! CAN ENTER ARRAY OF MULTIPLE LAT/LONGS, SO COULD INSERT MULTIPLE POINTS TO GET LINE-BASED ISOCHRONE\n",
    "body = {\"locations\":[[orgn_lon, orgn_lat]], \"range\":[max_time_sec], \"range_type\":\"time\"}\n",
    "\n",
    "headers = {\n",
    "    'Accept': 'application/json, application/geo+json, application/gpx+xml, img/png; charset=utf-8',\n",
    "    'Authorization': ors_api_key,\n",
    "    'Content-Type': 'application/json; charset=utf-8'\n",
    "}\n",
    "\n",
    "call = requests.post(f'https://api.openrouteservice.org/v2/isochrones/{travel_mode}', json=body, headers=headers)\n",
    "\n",
    "polygon_txt = call.text\n",
    "polygon_txt"
   ]
  },
  {
   "cell_type": "code",
   "execution_count": null,
   "metadata": {},
   "outputs": [],
   "source": []
  }
 ],
 "metadata": {
  "kernelspec": {
   "display_name": "Python 3 (ipykernel)",
   "language": "python",
   "name": "python3"
  },
  "language_info": {
   "codemirror_mode": {
    "name": "ipython",
    "version": 3
   },
   "file_extension": ".py",
   "mimetype": "text/x-python",
   "name": "python",
   "nbconvert_exporter": "python",
   "pygments_lexer": "ipython3",
   "version": "3.9.7"
  }
 },
 "nbformat": 4,
 "nbformat_minor": 4
}
