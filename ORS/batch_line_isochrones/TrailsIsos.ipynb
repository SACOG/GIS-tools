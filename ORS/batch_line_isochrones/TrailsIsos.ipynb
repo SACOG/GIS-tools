{
 "cells": [
  {
   "cell_type": "code",
   "execution_count": 1,
   "id": "d016f650",
   "metadata": {},
   "outputs": [
    {
     "name": "stdout",
     "output_type": "stream",
     "text": [
      "all modules and parameters loaded successfully.\n"
     ]
    }
   ],
   "source": [
    "# Make a bunch of batch isochrones around the long trails in the region\n",
    "# End goal is to have polygon showing all areas within half-mile network distance of \n",
    "# longer trails, then how many people live in EJ vs. non-EJ areas wtihin that polygon\n",
    "# MAY be risk of exceeding ORS's daily hit limit; if so can do in batches.\n",
    "\n",
    "import os\n",
    "\n",
    "import arcpy\n",
    "import geopandas as gpd\n",
    "import pandas as pd\n",
    "from arcgis.features import GeoAccessor, GeoSeriesAccessor\n",
    "\n",
    "import line_based_isochrone_localapi as lbi\n",
    "from time import perf_counter\n",
    "import datetime as dt\n",
    "\n",
    "in_api_file = r\"C:\\Users\\dconly\\GitRepos\\GIS-tools\\ORS\\api2_DO_NOT_COMMIT.txt\"\n",
    "mode = \"cycling-regular\"  # \"driving-car\", \"foot-walking\", \"cycling-regular\"\n",
    "isoctype = \"distance\" # \"time\", \"distance\" \n",
    "travel_range_mins = 0.5 # enter time in minutes, distance in miles\n",
    "\n",
    "lines_fc = r'I:\\Projects\\Darren\\PPA_V2_GIS\\ATPTrailsAnalyses2022.gdb\\LongerTrails2022_CountyTag'  # r\"I:\\Projects\\Darren\\PEP\\PEP_GIS\\PEP_GIS.gdb\\test_sr51\"  #  \n",
    "isoch_pts_per_mile = 10 # how close together you want the isochrones' origin points to be along the project line\n",
    "output_fgdb = r\"I:\\Projects\\Darren\\PPA_V2_GIS\\ATPTrailsAnalyses2022.gdb\" # file geodatabase where output isochrone FC will go\n",
    "\n",
    "print(\"all modules and parameters loaded successfully.\")\n",
    "\n",
    "\n"
   ]
  },
  {
   "cell_type": "code",
   "execution_count": 2,
   "id": "aa48f01c",
   "metadata": {},
   "outputs": [
    {
     "name": "stdout",
     "output_type": "stream",
     "text": [
      "0 features from input layer processed...\n",
      "10 features from input layer processed...\n",
      "20 features from input layer processed...\n",
      "30 features from input layer processed...\n",
      "40 features from input layer processed...\n",
      "50 features from input layer processed...\n",
      "60 features from input layer processed...\n",
      "70 features from input layer processed...\n",
      "80 features from input layer processed...\n",
      "90 features from input layer processed...\n",
      "100 features from input layer processed...\n",
      "110 features from input layer processed...\n",
      "120 features from input layer processed...\n",
      "130 features from input layer processed...\n",
      "140 features from input layer processed...\n",
      "150 features from input layer processed...\n",
      "160 features from input layer processed...\n",
      "170 features from input layer processed...\n",
      "Made isochrone around all line segments in I:\\Projects\\Darren\\PPA_V2_GIS\\ATPTrailsAnalyses2022.gdb\\LongerTrails2022_CountyTag in 355.5 seconds. Output is I:\\Projects\\Darren\\PPA_V2_GIS\\ATPTrailsAnalyses.gdb\\isoch_cycling20220213_2026.\n"
     ]
    }
   ],
   "source": [
    "# =================RUN SCRIPT ==========================\n",
    "start_time = perf_counter()\n",
    "tstamp_str = str(dt.datetime.now().strftime('%Y%m%d_%H%M'))\n",
    "\n",
    "mode_short = mode.split('-')[0]\n",
    "out_fc_name = f\"isoch_{mode_short}\"\n",
    "output_fc = os.path.join(output_fgdb, f\"{out_fc_name}{tstamp_str}\")\n",
    "\n",
    "isoch_pt_interval = 5280 / isoch_pts_per_mile\n",
    "\n",
    "temp_ws = \"memory\" # arcpy.env.scratchGDB\n",
    "temp_fcname = \"tempfc\"\n",
    "sref_wgs84 = arcpy.SpatialReference(4326) # ORS needs WGS84\n",
    "\n",
    "# make master geodataframe for all lines' isochrones; you'll append to it as you go.\n",
    "gdf_comb_isos = gpd.GeoDataFrame()\n",
    "\n",
    "with arcpy.da.SearchCursor(lines_fc, \"SHAPE@\") as cur:\n",
    "    i = 0\n",
    "    for row in cur: # for each line feature in the set of input lines:\n",
    "        \n",
    "        # create a temp feature class for the line\n",
    "        temp_fc_path = os.path.join(temp_ws, temp_fcname)\n",
    "        arcpy.management.CreateFeatureclass(temp_ws, temp_fcname, geometry_type=\"POLYLINE\",\n",
    "                                           spatial_reference=sref_wgs84)\n",
    "\n",
    "        linegeom = row[0] # geometry of the line we're making a temp fc from\n",
    "        with arcpy.da.InsertCursor(temp_fc_path, [\"SHAPE@\"]) as inscur: # insert line into temp fc\n",
    "            inscur.insertRow([linegeom])\n",
    "            \n",
    "            \n",
    "        # make a geodataframe for the isochrone corresponding to that line\n",
    "        line_iso = lbi.ORSIsochrone(api_file=in_api_file, isoc_type=isoctype,\n",
    "                    range_mins_or_mi=travel_range_mins, trav_mode=mode, batch_size=1)\n",
    "\n",
    "        # build geodataframe of the line feature's isochrone\n",
    "        gdf_line_iso = line_iso.make_line_isochrone(in_line_fc=temp_fc_path, interval_feet=isoch_pt_interval,\n",
    "                                output_file=None)\n",
    "        \n",
    "        # then append that line's isochrone to the master geodataframe\n",
    "        gdf_comb_isos = gdf_comb_isos.append(gdf_line_iso)\n",
    "        \n",
    "        if i % 10 == 0: \n",
    "            print(f\"{i} features from input layer processed...\")\n",
    "        i += 1\n",
    "\n",
    "# Export the combined gdf to feature class\n",
    "# In future, can have option to combine into single large isochrone\n",
    "sedf = pd.DataFrame.spatial.from_geodataframe(gdf_comb_isos)\n",
    "lbi.sedf_to_fc_workaround(sedf, output_fc) #convert output to feature class\n",
    "\n",
    "elapsed = round(perf_counter() - start_time,1)\n",
    "print(f\"Made isochrone around all line segments in {lines_fc} in {elapsed} seconds. Output is {output_fc}.\")\n"
   ]
  },
  {
   "cell_type": "code",
   "execution_count": 5,
   "id": "61cb278f",
   "metadata": {},
   "outputs": [
    {
     "name": "stdout",
     "output_type": "stream",
     "text": [
      "Made isochrone around all line segments in I:\\Projects\\Darren\\PPA_V2_GIS\\ATPTrailsAnalyses.gdb\\LongerTrails2022_CountyTag in 3635.7 seconds. Output is I:\\Projects\\Darren\\PPA_V2_GIS\\ATPTrailsAnalyses.gdb\\isoch_cycling20220209_1515.\n"
     ]
    }
   ],
   "source": [
    "sedf = pd.DataFrame.spatial.from_geodataframe(gdf_comb_isos)\n",
    "lbi.sedf_to_fc_workaround(sedf, output_fc) #convert output to feature class\n",
    "\n",
    "elapsed = round(perf_counter() - start_time,1)\n",
    "print(f\"Made isochrone around all line segments in {lines_fc} in {elapsed} seconds. Output is {output_fc}.\")"
   ]
  }
 ],
 "metadata": {
  "kernelspec": {
   "display_name": "Python 3",
   "language": "python",
   "name": "python3"
  },
  "language_info": {
   "codemirror_mode": {
    "name": "ipython",
    "version": 3
   },
   "file_extension": ".py",
   "mimetype": "text/x-python",
   "name": "python",
   "nbconvert_exporter": "python",
   "pygments_lexer": "ipython3",
   "version": "3.7.11"
  }
 },
 "nbformat": 4,
 "nbformat_minor": 5
}
