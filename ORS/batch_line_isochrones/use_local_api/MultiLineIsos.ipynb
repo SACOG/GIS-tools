{
 "cells": [
  {
   "cell_type": "code",
   "execution_count": 1,
   "id": "0c92e4f3",
   "metadata": {},
   "outputs": [
    {
     "name": "stdout",
     "output_type": "stream",
     "text": [
      "all modules and parameters loaded successfully.\n"
     ]
    }
   ],
   "source": [
    "# Make a bunch of batch isochrones around all line features within a line feature class/shapefile\n",
    "# End goal is to have polygon showing all areas within network-based buffer distance of \n",
    "# lines\n",
    "\n",
    "# If not already running, get the docker ORS image running by typing the following into CMD prompt:\n",
    "# docker container start ors-app\n",
    "# FYI - you must start docker Desktop before running this in the CMD\n",
    "\n",
    "import os\n",
    "\n",
    "import arcpy\n",
    "import geopandas as gpd\n",
    "import pandas as pd\n",
    "from arcgis.features import GeoAccessor, GeoSeriesAccessor\n",
    "\n",
    "import line_based_isochrone_localapi as lbi\n",
    "from time import perf_counter\n",
    "import datetime as dt\n",
    "\n",
    "in_api_file = r\"C:\\Users\\dconly\\GitRepos\\GIS-tools\\ORS\\api2_DO_NOT_COMMIT.txt\"\n",
    "\n",
    "# NOTE - for each mode, you must ensure that you have correct graphs built--see folder in openrouteservice repo\n",
    "# under ~/docker/graphs. If you need to change/update graphs, set \"active\" profile in ors-config.json\n",
    "# then run docker container restart ors-app in cmd prompt\n",
    "mode = \"foot-walking\"  # \"driving-car\", \"foot-walking\", \"cycling-regular\"\n",
    "isoctype = \"distance\" # \"time\", \"distance\" \n",
    "travel_range_mins = 1.0 # enter time in minutes, distance in miles\n",
    "\n",
    "lines_fc = r'I:\\Projects\\Darren\\TrailsAnalysis\\TrailsAnalysis.gdb\\TEST_MorrisonCrkSample'  \n",
    "isoch_pts_per_mile = 10 # how close together you want the isochrones' origin points to be along the project line\n",
    "output_fgdb = r\"I:\\Projects\\Darren\\TrailsAnalysis\\TrailsAnalysis.gdb\" # file geodatabase where output isochrone FC will go\n",
    "\n",
    "print(\"all modules and parameters loaded successfully.\")\n",
    "\n",
    "\n"
   ]
  },
  {
   "cell_type": "code",
   "execution_count": 2,
   "id": "b8b85294",
   "metadata": {},
   "outputs": [
    {
     "name": "stdout",
     "output_type": "stream",
     "text": [
      "0 features from input layer processed...\n",
      "Made isochrone around all line segments in I:\\Projects\\Darren\\TrailsAnalysis\\TrailsAnalysis.gdb\\TEST_MorrisonCrkSample in 1.44 minutes. Output is I:\\Projects\\Darren\\TrailsAnalysis\\TrailsAnalysis.gdb\\isoch_foot20220401_1630.\n"
     ]
    }
   ],
   "source": [
    "# =================RUN SCRIPT ==========================\n",
    "start_time = perf_counter()\n",
    "tstamp_str = str(dt.datetime.now().strftime('%Y%m%d_%H%M'))\n",
    "\n",
    "# temp_fc_out = os.path.join(arcpy.env.scratchGDB, \"TEMP_isoch_undissolved\")\n",
    "\n",
    "mode_short = mode.split('-')[0]\n",
    "out_fc_name = f\"isoch_{mode_short}\"\n",
    "output_fc = os.path.join(output_fgdb, f\"{out_fc_name}{tstamp_str}\")\n",
    "\n",
    "isoch_pt_interval = 5280 / isoch_pts_per_mile\n",
    "\n",
    "temp_ws = \"memory\" # arcpy.env.scratchGDB\n",
    "temp_fcname = \"tempfc\"\n",
    "sref_wgs84 = arcpy.SpatialReference(4326) # ORS needs WGS84\n",
    "\n",
    "# make master geodataframe for all lines' isochrones; you'll append to it as you go.\n",
    "gdf_comb_isos = gpd.GeoDataFrame()\n",
    "\n",
    "with arcpy.da.SearchCursor(lines_fc, \"SHAPE@\") as cur:\n",
    "    i = 0\n",
    "    for row in cur: # for each line feature in the set of input lines:\n",
    "        \n",
    "        # create a temp feature class for the line\n",
    "        temp_fc_path = os.path.join(temp_ws, temp_fcname)\n",
    "        arcpy.management.CreateFeatureclass(temp_ws, temp_fcname, geometry_type=\"POLYLINE\",\n",
    "                                           spatial_reference=sref_wgs84)\n",
    "\n",
    "        linegeom = row[0] # geometry of the line we're making a temp fc from\n",
    "        with arcpy.da.InsertCursor(temp_fc_path, [\"SHAPE@\"]) as inscur: # insert line into temp fc\n",
    "            inscur.insertRow([linegeom])\n",
    "            \n",
    "            \n",
    "        # make a geodataframe for the isochrone corresponding to that line\n",
    "        line_iso = lbi.ORSIsochrone(api_file=in_api_file, isoc_type=isoctype,\n",
    "                    range_mins_or_mi=travel_range_mins, trav_mode=mode, batch_size=1)\n",
    "\n",
    "        # build geodataframe of the line feature's isochrone\n",
    "        gdf_line_iso = line_iso.make_line_isochrone(in_line_fc=temp_fc_path, interval_feet=isoch_pt_interval,\n",
    "                                output_file=None)\n",
    "        \n",
    "        # then append that line's isochrone to the master geodataframe\n",
    "        # gdf_comb_isos = gdf_comb_isos.append(gdf_line_iso)\n",
    "        \n",
    "        temp_undissolved = os.path.join(arcpy.env.scratchGDB, \"TEMP_isoch_undissolved\")\n",
    "        temp_dissolved = os.path.join(arcpy.env.scratchGDB, \"TEMP_isoch_dissolved\")\n",
    "        \n",
    "        sedf = pd.DataFrame.spatial.from_geodataframe(gdf_line_iso) # convert to geoapndas gdf into spatially enabled dataframe\n",
    "        lbi.sedf_to_fc_workaround(sedf, temp_undissolved) # get point isos FC for the line\n",
    "        \n",
    "        if i == 0:\n",
    "            arcpy.management.Dissolve(temp_undissolved, output_fc) # dissolve so only 1 iso feature per line, this will be start of the output FC\n",
    "        else:\n",
    "            arcpy.management.Dissolve(temp_undissolved, temp_dissolved) \n",
    "            arcpy.management.Append(temp_dissolved, output_fc) # append the iso poly to the FC of iso polys for all lines\n",
    "        \n",
    "        if i % 50 == 0: \n",
    "            print(f\"{i} features from input layer processed...\")\n",
    "        i += 1\n",
    "\n",
    "# Export the combined gdf to feature class\n",
    "# In future, can have option to combine into single large isochrone\n",
    "# sedf = pd.DataFrame.spatial.from_geodataframe(gdf_comb_isos)\n",
    "# lbi.sedf_to_fc_workaround(sedf, temp_fc_out) #convert output to feature class\n",
    "\n",
    "# arcpy.management.Dissolve(temp_fc_out, output_fc)\n",
    "# arcpy.management.Delete(temp_fc_out)isoch_3mibike_longtrl_existing \n",
    "\n",
    "elapsed = round((perf_counter() - start_time) / 60, 2)\n",
    "print(f\"Made isochrone around all line segments in {lines_fc} in {elapsed} minutes. Output is {output_fc}.\")\n"
   ]
  },
  {
   "cell_type": "code",
   "execution_count": null,
   "id": "14ebf596-6f34-42ae-9e9c-7dd225d42bb2",
   "metadata": {},
   "outputs": [],
   "source": []
  }
 ],
 "metadata": {
  "kernelspec": {
   "display_name": "Python 3",
   "language": "python",
   "name": "python3"
  },
  "language_info": {
   "codemirror_mode": {
    "name": "ipython",
    "version": 3
   },
   "file_extension": ".py",
   "mimetype": "text/x-python",
   "name": "python",
   "nbconvert_exporter": "python",
   "pygments_lexer": "ipython3",
   "version": "3.7.11"
  }
 },
 "nbformat": 4,
 "nbformat_minor": 5
}
